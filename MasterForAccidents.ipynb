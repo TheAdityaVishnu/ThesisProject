{
  "nbformat": 4,
  "nbformat_minor": 0,
  "metadata": {
    "colab": {
      "name": "MasterForAccidents.ipynb",
      "provenance": [],
      "collapsed_sections": []
    },
    "kernelspec": {
      "name": "python3",
      "display_name": "Python 3"
    },
    "accelerator": "TPU"
  },
  "cells": [
    {
      "cell_type": "code",
      "metadata": {
        "id": "oVnghHzTwpN9",
        "colab_type": "code",
        "outputId": "6563c262-e627-4c25-9873-efd0e9ebfa4d",
        "colab": {
          "base_uri": "https://localhost:8080/",
          "height": 34
        }
      },
      "source": [
        "from google.colab import drive\n",
        "drive.mount('/content/drive')"
      ],
      "execution_count": 0,
      "outputs": [
        {
          "output_type": "stream",
          "text": [
            "Drive already mounted at /content/drive; to attempt to forcibly remount, call drive.mount(\"/content/drive\", force_remount=True).\n"
          ],
          "name": "stdout"
        }
      ]
    },
    {
      "cell_type": "code",
      "metadata": {
        "id": "Qkas8rYiw1Wg",
        "colab_type": "code",
        "colab": {}
      },
      "source": [
        "import scipy\n",
        "from scipy import io\n",
        "\n",
        "import matplotlib.pyplot as plt\n",
        "import numpy as np\n",
        "\n",
        "from os import listdir\n",
        "from os.path import isfile, join\n",
        "\n",
        "import pandas as pd\n",
        "#Load Data\n",
        "import os\n",
        "import glob\n",
        "import csv"
      ],
      "execution_count": 0,
      "outputs": []
    },
    {
      "cell_type": "code",
      "metadata": {
        "id": "25Gs9BwAxaYF",
        "colab_type": "code",
        "outputId": "4fa8106c-3f69-4f20-b7af-3e8553f5293a",
        "colab": {
          "base_uri": "https://localhost:8080/",
          "height": 105
        }
      },
      "source": [
        "###################################Read Data\n",
        "RSA_data = pd.read_csv(\"/content/drive/My Drive/ML/RSA_Dataset.csv\")\n",
        "Visibility_Data = pd.read_csv(\"/content/drive/My Drive/ML/thesis_dataset/test/AllDataDublinAirport.csv\", parse_dates=['date'])\n"
      ],
      "execution_count": 0,
      "outputs": [
        {
          "output_type": "stream",
          "text": [
            "/usr/local/lib/python3.6/dist-packages/IPython/core/interactiveshell.py:2718: DtypeWarning: Columns (6,7,9,10,11,13,14,15,24,25,30,38,39,66,67) have mixed types.Specify dtype option on import or set low_memory=False.\n",
            "  interactivity=interactivity, compiler=compiler, result=result)\n",
            "/usr/local/lib/python3.6/dist-packages/IPython/core/interactiveshell.py:2718: DtypeWarning: Columns (8,9,14) have mixed types.Specify dtype option on import or set low_memory=False.\n",
            "  interactivity=interactivity, compiler=compiler, result=result)\n"
          ],
          "name": "stderr"
        }
      ]
    },
    {
      "cell_type": "code",
      "metadata": {
        "id": "sCbhlKBlxPdB",
        "colab_type": "code",
        "outputId": "bf1edd38-3994-4357-905f-a0c855e7266b",
        "colab": {
          "base_uri": "https://localhost:8080/",
          "height": 204
        }
      },
      "source": [
        "\n",
        "############################################# Get Coordinates\n",
        "RSA_data['ITM-x'] = pd.to_numeric(RSA_data['ITM-x'].astype(str).str.replace(',',''), errors='coerce').fillna(0).astype(float)\n",
        "RSA_data['ITM-y'] = pd.to_numeric(RSA_data['ITM-y'].astype(str).str.replace(',',''), errors='coerce').fillna(0).astype(float)\n",
        "x0 = 708818.16\n",
        "y0 = 738347.41\n",
        "x1 = RSA_data['ITM-x'].values\n",
        "y1 = RSA_data['ITM-y'].values\n",
        "d2 = np.square( x1 - x0 )  + np.square( y1 - y0 ) \n",
        "distances = np.sqrt( d2 )\n",
        "df = pd.DataFrame(data=distances, columns=[\"column1\"])\n",
        "RSA_data['distance'] = df['column1']\n",
        "del RSA_data['accnum2']\n",
        "del RSA_data['accnum1']\n",
        "del RSA_data['minutes']\n",
        "test = RSA_data.loc[(RSA_data.distance < 5000)]\n",
        "\n",
        "test.rename(columns={'year':'Year'}, inplace=True)\n",
        "test.rename(columns={'month':'Month'}, inplace=True)\n",
        "test.rename(columns={'day':'Day'}, inplace=True)\n",
        "test.rename(columns={'hour':'Hour'}, inplace=True)\n",
        "test.loc[test['Year'] == 5, 'Year'] = 2005\n",
        "test.loc[test['Year'] == 6, 'Year'] = 2006\n",
        "test.loc[test['Year'] == 7, 'Year'] = 2007\n",
        "test.loc[test['Year'] == 8, 'Year'] = 2008\n",
        "test.loc[test['Year'] == 9, 'Year'] = 2009\n",
        "test.loc[test['Year'] == 10, 'Year'] = 2010\n",
        "test.loc[test['Year'] == 11, 'Year'] = 2011\n",
        "test.loc[test['Year'] == 12, 'Year'] = 2012\n",
        "test.loc[test['Year'] == 13, 'Year'] = 2013\n",
        "test.loc[test['Year'] == 14, 'Year'] = 2014\n",
        "test.loc[test['Year'] == 15, 'Year'] = 2015\n",
        "test.loc[test['Year'] == 16, 'Year'] = 2016\n",
        "\n",
        "test2 = test.filter(['type', 'Day', 'Month', 'Year', 'Hour', 'IG-x', 'IG-y', 'ITM-x', 'ITM-y', 'distance'])\n",
        "#test2['light'] = pd.to_numeric(test2['light'].astype(str).str.replace(',',''), errors='coerce').fillna(0).astype(int)\n"
      ],
      "execution_count": 0,
      "outputs": [
        {
          "output_type": "stream",
          "text": [
            "/usr/local/lib/python3.6/dist-packages/pandas/core/frame.py:4133: SettingWithCopyWarning: \n",
            "A value is trying to be set on a copy of a slice from a DataFrame\n",
            "\n",
            "See the caveats in the documentation: https://pandas.pydata.org/pandas-docs/stable/user_guide/indexing.html#returning-a-view-versus-a-copy\n",
            "  errors=errors,\n",
            "/usr/local/lib/python3.6/dist-packages/pandas/core/indexing.py:966: SettingWithCopyWarning: \n",
            "A value is trying to be set on a copy of a slice from a DataFrame.\n",
            "Try using .loc[row_indexer,col_indexer] = value instead\n",
            "\n",
            "See the caveats in the documentation: https://pandas.pydata.org/pandas-docs/stable/user_guide/indexing.html#returning-a-view-versus-a-copy\n",
            "  self.obj[item] = s\n"
          ],
          "name": "stderr"
        }
      ]
    },
    {
      "cell_type": "code",
      "metadata": {
        "id": "Ai5JJ950xV4J",
        "colab_type": "code",
        "colab": {}
      },
      "source": [
        "############################### Operations on Visibility Data\n",
        "Visibility_Data['Year'] = Visibility_Data['date'].dt.year\n",
        "Visibility_Data['Month'] = Visibility_Data['date'].dt.month\n",
        "Visibility_Data['Day'] = Visibility_Data['date'].dt.day\n",
        "Visibility_Data['Hour'] = Visibility_Data['date'].dt.hour\n",
        "Visibility_Data['Weekday'] = Visibility_Data['date'].dt.weekday"
      ],
      "execution_count": 0,
      "outputs": []
    },
    {
      "cell_type": "code",
      "metadata": {
        "id": "QuD1biOAxoHr",
        "colab_type": "code",
        "colab": {}
      },
      "source": [
        "merged = test2.merge(Visibility_Data, on=['Year', 'Month', 'Day', 'Hour'], how='right')\n",
        "\n",
        "del merged['ind']\n",
        "del merged['ind.1']\n",
        "del merged['ind.2']\n",
        "del merged['wetb']\n",
        "del merged['dewpt']\n",
        "del merged['vappr']\n",
        "del merged['rhum']\n",
        "del merged['msl']\n",
        "del merged['ind.3']\n",
        "\n",
        "del merged['ind.4']\n",
        "del merged['wddir']\n",
        "del merged['ww']\n",
        "del merged['w']\n",
        "del merged['sun']\n",
        "del merged['clht']\n",
        "del merged['clamt']"
      ],
      "execution_count": 0,
      "outputs": []
    },
    {
      "cell_type": "code",
      "metadata": {
        "id": "YT7GAOM1yns_",
        "colab_type": "code",
        "colab": {}
      },
      "source": [
        "merged.loc[merged.type>0,'Accident']=1"
      ],
      "execution_count": 0,
      "outputs": []
    },
    {
      "cell_type": "code",
      "metadata": {
        "id": "SMMwlMhJyzLM",
        "colab_type": "code",
        "colab": {}
      },
      "source": [
        "merged2 = merged\n",
        "del merged2['date']\n",
        "del merged2['wdsp']"
      ],
      "execution_count": 0,
      "outputs": []
    },
    {
      "cell_type": "code",
      "metadata": {
        "id": "I2NPEY6_y6xT",
        "colab_type": "code",
        "colab": {}
      },
      "source": [
        "traffic_volume_data_processed = pd.read_csv(\"/content/drive/My Drive/ML/thesis_dataset/test/AllDataProcessedCARSNRA.csv\",index_col=False)\n",
        "del traffic_volume_data_processed['Unnamed: 0']"
      ],
      "execution_count": 0,
      "outputs": []
    },
    {
      "cell_type": "code",
      "metadata": {
        "id": "O0RJicRV1HZu",
        "colab_type": "code",
        "colab": {}
      },
      "source": [
        "traffic_volume_data_processed.rename(columns={'HourSlot':'Hour'}, inplace=True)\n",
        "traffic_volume_data_processed.rename(columns={'MonthSlot':'Month'}, inplace=True)\n",
        "traffic_volume_data_processed.rename(columns={'Day':'Nameofweek'}, inplace=True)\n",
        "traffic_volume_data_processed.rename(columns={'DaySlot':'Day'}, inplace=True)"
      ],
      "execution_count": 0,
      "outputs": []
    },
    {
      "cell_type": "code",
      "metadata": {
        "id": "AIA4dd2V6zeT",
        "colab_type": "code",
        "colab": {}
      },
      "source": [
        "forGettingProba = traffic_volume_data_processed.loc[((traffic_volume_data_processed.Year==2017) & (traffic_volume_data_processed.Month==1) )]\n",
        "\n",
        "del forGettingProba['Nameofweek']\n",
        "del forGettingProba['Date']"
      ],
      "execution_count": 0,
      "outputs": []
    },
    {
      "cell_type": "code",
      "metadata": {
        "id": "zPeXqaHe1JPf",
        "colab_type": "code",
        "colab": {}
      },
      "source": [
        "merged3 = traffic_volume_data_processed.merge(merged2, on=['Year', 'Month', 'Day', 'Hour'], how='left')"
      ],
      "execution_count": 0,
      "outputs": []
    },
    {
      "cell_type": "code",
      "metadata": {
        "id": "dnsVTjqQzBdS",
        "colab_type": "code",
        "colab": {}
      },
      "source": [
        "\n",
        "merged3 =merged3.loc[merged3.Year<=2016]\n",
        "del merged3['IG-x']\n",
        "del merged3['IG-y']\n",
        "del merged3['ITM-x']\n",
        "del merged3['ITM-y']\n",
        "del merged3['distance']\n",
        "del merged3['Nameofweek']\n",
        "del merged3['WEEKDAY']\n",
        "del merged3['Date']\n"
      ],
      "execution_count": 0,
      "outputs": []
    },
    {
      "cell_type": "code",
      "metadata": {
        "id": "BVnDdxs71Wgp",
        "colab_type": "code",
        "colab": {}
      },
      "source": [
        "merged4 = merged3\n",
        "del merged4['Month']\n",
        "del merged4['Day']\n",
        "#del merged4['Year']\n",
        "del merged4['Hour']\n",
        "del merged4['Weekday']\n",
        "merged4=merged4.fillna(0)"
      ],
      "execution_count": 0,
      "outputs": []
    },
    {
      "cell_type": "code",
      "metadata": {
        "id": "PE1s72ch6YPC",
        "colab_type": "code",
        "colab": {}
      },
      "source": [
        "del merged4['rain']"
      ],
      "execution_count": 0,
      "outputs": []
    },
    {
      "cell_type": "code",
      "metadata": {
        "id": "DwKZWdH565Pw",
        "colab_type": "code",
        "colab": {}
      },
      "source": [
        "del merged4['vis']"
      ],
      "execution_count": 0,
      "outputs": []
    },
    {
      "cell_type": "code",
      "metadata": {
        "id": "elvJ112E1jkq",
        "colab_type": "code",
        "colab": {}
      },
      "source": [
        "merged4.loc[merged4.Accident>0.0,'Accident']=1"
      ],
      "execution_count": 0,
      "outputs": []
    },
    {
      "cell_type": "code",
      "metadata": {
        "id": "LASDEAP84hno",
        "colab_type": "code",
        "colab": {}
      },
      "source": [
        "del merged4['temp']"
      ],
      "execution_count": 0,
      "outputs": []
    },
    {
      "cell_type": "code",
      "metadata": {
        "id": "2YqaU16I5OZg",
        "colab_type": "code",
        "outputId": "a0019302-853b-4d4f-a3aa-4700f6c52cb7",
        "colab": {
          "base_uri": "https://localhost:8080/",
          "height": 419
        }
      },
      "source": [
        "merged4"
      ],
      "execution_count": 0,
      "outputs": [
        {
          "output_type": "execute_result",
          "data": {
            "text/html": [
              "<div>\n",
              "<style scoped>\n",
              "    .dataframe tbody tr th:only-of-type {\n",
              "        vertical-align: middle;\n",
              "    }\n",
              "\n",
              "    .dataframe tbody tr th {\n",
              "        vertical-align: top;\n",
              "    }\n",
              "\n",
              "    .dataframe thead th {\n",
              "        text-align: right;\n",
              "    }\n",
              "</style>\n",
              "<table border=\"1\" class=\"dataframe\">\n",
              "  <thead>\n",
              "    <tr style=\"text-align: right;\">\n",
              "      <th></th>\n",
              "      <th>Volume_of_Traffic</th>\n",
              "      <th>Year</th>\n",
              "      <th>Holiday</th>\n",
              "      <th>hr_sin</th>\n",
              "      <th>hr_cos</th>\n",
              "      <th>month_sin</th>\n",
              "      <th>month_cos</th>\n",
              "      <th>weekday_sin</th>\n",
              "      <th>weekday_cos</th>\n",
              "      <th>DaySlot_sin</th>\n",
              "      <th>DaySlot_cos</th>\n",
              "      <th>type</th>\n",
              "      <th>Accident</th>\n",
              "    </tr>\n",
              "  </thead>\n",
              "  <tbody>\n",
              "    <tr>\n",
              "      <th>25381</th>\n",
              "      <td>791</td>\n",
              "      <td>2016</td>\n",
              "      <td>1</td>\n",
              "      <td>0.000000</td>\n",
              "      <td>1.000000</td>\n",
              "      <td>0.0</td>\n",
              "      <td>1.000000</td>\n",
              "      <td>-0.433884</td>\n",
              "      <td>-0.900969</td>\n",
              "      <td>0.000000</td>\n",
              "      <td>1.00000</td>\n",
              "      <td>0.0</td>\n",
              "      <td>0.0</td>\n",
              "    </tr>\n",
              "    <tr>\n",
              "      <th>25382</th>\n",
              "      <td>1185</td>\n",
              "      <td>2016</td>\n",
              "      <td>1</td>\n",
              "      <td>0.258819</td>\n",
              "      <td>0.965926</td>\n",
              "      <td>0.0</td>\n",
              "      <td>1.000000</td>\n",
              "      <td>-0.433884</td>\n",
              "      <td>-0.900969</td>\n",
              "      <td>0.000000</td>\n",
              "      <td>1.00000</td>\n",
              "      <td>0.0</td>\n",
              "      <td>0.0</td>\n",
              "    </tr>\n",
              "    <tr>\n",
              "      <th>25383</th>\n",
              "      <td>933</td>\n",
              "      <td>2016</td>\n",
              "      <td>1</td>\n",
              "      <td>0.500000</td>\n",
              "      <td>0.866025</td>\n",
              "      <td>0.0</td>\n",
              "      <td>1.000000</td>\n",
              "      <td>-0.433884</td>\n",
              "      <td>-0.900969</td>\n",
              "      <td>0.000000</td>\n",
              "      <td>1.00000</td>\n",
              "      <td>0.0</td>\n",
              "      <td>0.0</td>\n",
              "    </tr>\n",
              "    <tr>\n",
              "      <th>25384</th>\n",
              "      <td>727</td>\n",
              "      <td>2016</td>\n",
              "      <td>1</td>\n",
              "      <td>0.707107</td>\n",
              "      <td>0.707107</td>\n",
              "      <td>0.0</td>\n",
              "      <td>1.000000</td>\n",
              "      <td>-0.433884</td>\n",
              "      <td>-0.900969</td>\n",
              "      <td>0.000000</td>\n",
              "      <td>1.00000</td>\n",
              "      <td>0.0</td>\n",
              "      <td>0.0</td>\n",
              "    </tr>\n",
              "    <tr>\n",
              "      <th>25385</th>\n",
              "      <td>763</td>\n",
              "      <td>2016</td>\n",
              "      <td>1</td>\n",
              "      <td>0.866025</td>\n",
              "      <td>0.500000</td>\n",
              "      <td>0.0</td>\n",
              "      <td>1.000000</td>\n",
              "      <td>-0.433884</td>\n",
              "      <td>-0.900969</td>\n",
              "      <td>0.000000</td>\n",
              "      <td>1.00000</td>\n",
              "      <td>0.0</td>\n",
              "      <td>0.0</td>\n",
              "    </tr>\n",
              "    <tr>\n",
              "      <th>...</th>\n",
              "      <td>...</td>\n",
              "      <td>...</td>\n",
              "      <td>...</td>\n",
              "      <td>...</td>\n",
              "      <td>...</td>\n",
              "      <td>...</td>\n",
              "      <td>...</td>\n",
              "      <td>...</td>\n",
              "      <td>...</td>\n",
              "      <td>...</td>\n",
              "      <td>...</td>\n",
              "      <td>...</td>\n",
              "      <td>...</td>\n",
              "    </tr>\n",
              "    <tr>\n",
              "      <th>58887</th>\n",
              "      <td>3526</td>\n",
              "      <td>2013</td>\n",
              "      <td>0</td>\n",
              "      <td>-0.965926</td>\n",
              "      <td>0.258819</td>\n",
              "      <td>-0.5</td>\n",
              "      <td>0.866025</td>\n",
              "      <td>0.781831</td>\n",
              "      <td>0.623490</td>\n",
              "      <td>-0.201299</td>\n",
              "      <td>0.97953</td>\n",
              "      <td>0.0</td>\n",
              "      <td>0.0</td>\n",
              "    </tr>\n",
              "    <tr>\n",
              "      <th>58888</th>\n",
              "      <td>2584</td>\n",
              "      <td>2013</td>\n",
              "      <td>0</td>\n",
              "      <td>-0.866025</td>\n",
              "      <td>0.500000</td>\n",
              "      <td>-0.5</td>\n",
              "      <td>0.866025</td>\n",
              "      <td>0.781831</td>\n",
              "      <td>0.623490</td>\n",
              "      <td>-0.201299</td>\n",
              "      <td>0.97953</td>\n",
              "      <td>0.0</td>\n",
              "      <td>0.0</td>\n",
              "    </tr>\n",
              "    <tr>\n",
              "      <th>58889</th>\n",
              "      <td>1665</td>\n",
              "      <td>2013</td>\n",
              "      <td>0</td>\n",
              "      <td>-0.707107</td>\n",
              "      <td>0.707107</td>\n",
              "      <td>-0.5</td>\n",
              "      <td>0.866025</td>\n",
              "      <td>0.781831</td>\n",
              "      <td>0.623490</td>\n",
              "      <td>-0.201299</td>\n",
              "      <td>0.97953</td>\n",
              "      <td>0.0</td>\n",
              "      <td>0.0</td>\n",
              "    </tr>\n",
              "    <tr>\n",
              "      <th>58890</th>\n",
              "      <td>1196</td>\n",
              "      <td>2013</td>\n",
              "      <td>0</td>\n",
              "      <td>-0.500000</td>\n",
              "      <td>0.866025</td>\n",
              "      <td>-0.5</td>\n",
              "      <td>0.866025</td>\n",
              "      <td>0.781831</td>\n",
              "      <td>0.623490</td>\n",
              "      <td>-0.201299</td>\n",
              "      <td>0.97953</td>\n",
              "      <td>0.0</td>\n",
              "      <td>0.0</td>\n",
              "    </tr>\n",
              "    <tr>\n",
              "      <th>58891</th>\n",
              "      <td>747</td>\n",
              "      <td>2013</td>\n",
              "      <td>0</td>\n",
              "      <td>-0.258819</td>\n",
              "      <td>0.965926</td>\n",
              "      <td>-0.5</td>\n",
              "      <td>0.866025</td>\n",
              "      <td>0.781831</td>\n",
              "      <td>0.623490</td>\n",
              "      <td>-0.201299</td>\n",
              "      <td>0.97953</td>\n",
              "      <td>0.0</td>\n",
              "      <td>0.0</td>\n",
              "    </tr>\n",
              "  </tbody>\n",
              "</table>\n",
              "<p>33511 rows × 13 columns</p>\n",
              "</div>"
            ],
            "text/plain": [
              "       Volume_of_Traffic  Year  Holiday  ...  DaySlot_cos  type  Accident\n",
              "25381                791  2016        1  ...      1.00000   0.0       0.0\n",
              "25382               1185  2016        1  ...      1.00000   0.0       0.0\n",
              "25383                933  2016        1  ...      1.00000   0.0       0.0\n",
              "25384                727  2016        1  ...      1.00000   0.0       0.0\n",
              "25385                763  2016        1  ...      1.00000   0.0       0.0\n",
              "...                  ...   ...      ...  ...          ...   ...       ...\n",
              "58887               3526  2013        0  ...      0.97953   0.0       0.0\n",
              "58888               2584  2013        0  ...      0.97953   0.0       0.0\n",
              "58889               1665  2013        0  ...      0.97953   0.0       0.0\n",
              "58890               1196  2013        0  ...      0.97953   0.0       0.0\n",
              "58891                747  2013        0  ...      0.97953   0.0       0.0\n",
              "\n",
              "[33511 rows x 13 columns]"
            ]
          },
          "metadata": {
            "tags": []
          },
          "execution_count": 180
        }
      ]
    },
    {
      "cell_type": "code",
      "metadata": {
        "id": "RV5D4ebg1zhx",
        "colab_type": "code",
        "colab": {}
      },
      "source": [
        "Y = merged4['Accident']\n",
        "X = merged4.drop(['Accident'], axis = 1)"
      ],
      "execution_count": 0,
      "outputs": []
    },
    {
      "cell_type": "code",
      "metadata": {
        "id": "1KHsKmnY3Ax6",
        "colab_type": "code",
        "colab": {}
      },
      "source": [
        "X = X.drop(['type'], axis = 1)"
      ],
      "execution_count": 0,
      "outputs": []
    },
    {
      "cell_type": "code",
      "metadata": {
        "id": "aBjG14Y016BK",
        "colab_type": "code",
        "colab": {}
      },
      "source": [
        "from sklearn.model_selection import train_test_split\n",
        "from sklearn.linear_model import LogisticRegression\n",
        "from sklearn.metrics import accuracy_score\n",
        "from sklearn.metrics import f1_score\n",
        "\n",
        "X_train, X_test, y_train, y_test = train_test_split(X, Y, test_size=0.25, random_state=123)\n"
      ],
      "execution_count": 0,
      "outputs": []
    },
    {
      "cell_type": "code",
      "metadata": {
        "id": "wk0bL53I2mIx",
        "colab_type": "code",
        "colab": {}
      },
      "source": [
        "# concatenate our training data back together\n",
        "X = pd.concat([X_train, y_train], axis=1)"
      ],
      "execution_count": 0,
      "outputs": []
    },
    {
      "cell_type": "code",
      "metadata": {
        "id": "xSHwOJme2kZh",
        "colab_type": "code",
        "colab": {}
      },
      "source": [
        "# separate minority and majority classes\n",
        "not_ACCIDENT = X[X.Accident==0.0]\n",
        "ACCIDENT = X[X.Accident==1.0]"
      ],
      "execution_count": 0,
      "outputs": []
    },
    {
      "cell_type": "code",
      "metadata": {
        "id": "xT34tnAE2ozy",
        "colab_type": "code",
        "colab": {}
      },
      "source": [
        "from sklearn.utils import resample\n",
        "# upsample minority\n",
        "ACCIDENT_upsampled = resample(ACCIDENT,\n",
        "                          replace=True, # sample with replacement\n",
        "                          n_samples=len(not_ACCIDENT), # match number in majority class\n",
        "                          random_state=27) # reproducible results"
      ],
      "execution_count": 0,
      "outputs": []
    },
    {
      "cell_type": "code",
      "metadata": {
        "id": "9CCVPb6r2tSB",
        "colab_type": "code",
        "colab": {}
      },
      "source": [
        "upsampled = pd.concat([not_ACCIDENT, ACCIDENT_upsampled])\n"
      ],
      "execution_count": 0,
      "outputs": []
    },
    {
      "cell_type": "code",
      "metadata": {
        "id": "FLhRIydh2wwp",
        "colab_type": "code",
        "colab": {}
      },
      "source": [
        "y_train = upsampled.Accident\n",
        "X_train = upsampled.drop('Accident', axis=1)"
      ],
      "execution_count": 0,
      "outputs": []
    },
    {
      "cell_type": "code",
      "metadata": {
        "id": "iWjr74pIaeyD",
        "colab_type": "code",
        "colab": {}
      },
      "source": [
        "from sklearn.metrics import accuracy_score\n",
        "from sklearn.metrics import mean_absolute_error\n",
        "from sklearn.metrics import precision_score\n",
        "from sklearn.metrics import recall_score\n",
        "from sklearn.metrics import mean_squared_error\n",
        "from math import sqrt"
      ],
      "execution_count": 0,
      "outputs": []
    },
    {
      "cell_type": "code",
      "metadata": {
        "id": "28OkP5t11_7a",
        "colab_type": "code",
        "outputId": "67fa25ad-eec7-4056-cfa3-820c3325225d",
        "colab": {
          "base_uri": "https://localhost:8080/",
          "height": 34
        }
      },
      "source": [
        "upsampled = LogisticRegression(solver='liblinear').fit(X_train, y_train)\n",
        "from sklearn.metrics import recall_score\n",
        "\n",
        "upsampled_pred = upsampled.predict(X_test)\n",
        "\n",
        "# Checking accuracy\n",
        "accuracy_score(y_test, upsampled_pred)"
      ],
      "execution_count": 0,
      "outputs": [
        {
          "output_type": "execute_result",
          "data": {
            "text/plain": [
              "0.5874910479828122"
            ]
          },
          "metadata": {
            "tags": []
          },
          "execution_count": 190
        }
      ]
    },
    {
      "cell_type": "code",
      "metadata": {
        "id": "VcGYQDmCaZwq",
        "colab_type": "code",
        "outputId": "78ed26cd-d305-4c68-ff08-3edcbee800f2",
        "colab": {
          "base_uri": "https://localhost:8080/",
          "height": 34
        }
      },
      "source": [
        "recall_score(y_test, upsampled_pred)"
      ],
      "execution_count": 0,
      "outputs": [
        {
          "output_type": "execute_result",
          "data": {
            "text/plain": [
              "0.7333333333333333"
            ]
          },
          "metadata": {
            "tags": []
          },
          "execution_count": 191
        }
      ]
    },
    {
      "cell_type": "code",
      "metadata": {
        "id": "WTrFUBUr75LV",
        "colab_type": "code",
        "colab": {}
      },
      "source": [
        "jackpot = upsampled.predict_proba(forGettingProba)\n",
        "jackpot2 = pd.DataFrame(data=jackpot, columns=[\"column1\", \"column2\"])\n",
        "forGettingProba['Jackpot3'] = jackpot2['column2'].values\n"
      ],
      "execution_count": 0,
      "outputs": []
    },
    {
      "cell_type": "code",
      "metadata": {
        "id": "sLdVy3HI-jIx",
        "colab_type": "code",
        "colab": {}
      },
      "source": [
        "forGettingProba2 =  forGettingProba"
      ],
      "execution_count": 0,
      "outputs": []
    },
    {
      "cell_type": "code",
      "metadata": {
        "id": "zANd8vI88ZOo",
        "colab_type": "code",
        "outputId": "956bdf24-8e3e-483d-b944-356326ab55c7",
        "colab": {
          "base_uri": "https://localhost:8080/",
          "height": 847
        }
      },
      "source": [
        "duplicate = traffic_volume_data_processed.loc[((traffic_volume_data_processed.Year==2017) & (traffic_volume_data_processed.Month==1) )]\n",
        "forGettingProba2['WEEKDAY'] = duplicate['WEEKDAY'].values\n",
        "forGettingProba2['Month'] = duplicate['Month'].values\n",
        "forGettingProba2['Day'] = duplicate['Day'].values\n",
        "forGettingProba2['Hour'] = duplicate['Hour'].values\n",
        "forGettingProba2"
      ],
      "execution_count": 0,
      "outputs": [
        {
          "output_type": "stream",
          "text": [
            "/usr/local/lib/python3.6/dist-packages/ipykernel_launcher.py:2: SettingWithCopyWarning: \n",
            "A value is trying to be set on a copy of a slice from a DataFrame.\n",
            "Try using .loc[row_indexer,col_indexer] = value instead\n",
            "\n",
            "See the caveats in the documentation: https://pandas.pydata.org/pandas-docs/stable/user_guide/indexing.html#returning-a-view-versus-a-copy\n",
            "  \n",
            "/usr/local/lib/python3.6/dist-packages/ipykernel_launcher.py:3: SettingWithCopyWarning: \n",
            "A value is trying to be set on a copy of a slice from a DataFrame.\n",
            "Try using .loc[row_indexer,col_indexer] = value instead\n",
            "\n",
            "See the caveats in the documentation: https://pandas.pydata.org/pandas-docs/stable/user_guide/indexing.html#returning-a-view-versus-a-copy\n",
            "  This is separate from the ipykernel package so we can avoid doing imports until\n",
            "/usr/local/lib/python3.6/dist-packages/ipykernel_launcher.py:4: SettingWithCopyWarning: \n",
            "A value is trying to be set on a copy of a slice from a DataFrame.\n",
            "Try using .loc[row_indexer,col_indexer] = value instead\n",
            "\n",
            "See the caveats in the documentation: https://pandas.pydata.org/pandas-docs/stable/user_guide/indexing.html#returning-a-view-versus-a-copy\n",
            "  after removing the cwd from sys.path.\n",
            "/usr/local/lib/python3.6/dist-packages/ipykernel_launcher.py:5: SettingWithCopyWarning: \n",
            "A value is trying to be set on a copy of a slice from a DataFrame.\n",
            "Try using .loc[row_indexer,col_indexer] = value instead\n",
            "\n",
            "See the caveats in the documentation: https://pandas.pydata.org/pandas-docs/stable/user_guide/indexing.html#returning-a-view-versus-a-copy\n",
            "  \"\"\"\n"
          ],
          "name": "stderr"
        },
        {
          "output_type": "execute_result",
          "data": {
            "text/html": [
              "<div>\n",
              "<style scoped>\n",
              "    .dataframe tbody tr th:only-of-type {\n",
              "        vertical-align: middle;\n",
              "    }\n",
              "\n",
              "    .dataframe tbody tr th {\n",
              "        vertical-align: top;\n",
              "    }\n",
              "\n",
              "    .dataframe thead th {\n",
              "        text-align: right;\n",
              "    }\n",
              "</style>\n",
              "<table border=\"1\" class=\"dataframe\">\n",
              "  <thead>\n",
              "    <tr style=\"text-align: right;\">\n",
              "      <th></th>\n",
              "      <th>Volume_of_Traffic</th>\n",
              "      <th>Year</th>\n",
              "      <th>Holiday</th>\n",
              "      <th>hr_sin</th>\n",
              "      <th>hr_cos</th>\n",
              "      <th>month_sin</th>\n",
              "      <th>month_cos</th>\n",
              "      <th>weekday_sin</th>\n",
              "      <th>weekday_cos</th>\n",
              "      <th>DaySlot_sin</th>\n",
              "      <th>DaySlot_cos</th>\n",
              "      <th>Jackpot3</th>\n",
              "      <th>WEEKDAY</th>\n",
              "      <th>Month</th>\n",
              "      <th>Day</th>\n",
              "      <th>Hour</th>\n",
              "    </tr>\n",
              "  </thead>\n",
              "  <tbody>\n",
              "    <tr>\n",
              "      <th>16631</th>\n",
              "      <td>815</td>\n",
              "      <td>2017</td>\n",
              "      <td>1</td>\n",
              "      <td>0.000000</td>\n",
              "      <td>1.000000</td>\n",
              "      <td>0.0</td>\n",
              "      <td>1.0</td>\n",
              "      <td>-0.781831</td>\n",
              "      <td>0.62349</td>\n",
              "      <td>0.000000</td>\n",
              "      <td>1.00000</td>\n",
              "      <td>0.258792</td>\n",
              "      <td>6</td>\n",
              "      <td>1</td>\n",
              "      <td>1</td>\n",
              "      <td>0</td>\n",
              "    </tr>\n",
              "    <tr>\n",
              "      <th>16632</th>\n",
              "      <td>1215</td>\n",
              "      <td>2017</td>\n",
              "      <td>1</td>\n",
              "      <td>0.258819</td>\n",
              "      <td>0.965926</td>\n",
              "      <td>0.0</td>\n",
              "      <td>1.0</td>\n",
              "      <td>-0.781831</td>\n",
              "      <td>0.62349</td>\n",
              "      <td>0.000000</td>\n",
              "      <td>1.00000</td>\n",
              "      <td>0.266942</td>\n",
              "      <td>6</td>\n",
              "      <td>1</td>\n",
              "      <td>1</td>\n",
              "      <td>1</td>\n",
              "    </tr>\n",
              "    <tr>\n",
              "      <th>16633</th>\n",
              "      <td>912</td>\n",
              "      <td>2017</td>\n",
              "      <td>1</td>\n",
              "      <td>0.500000</td>\n",
              "      <td>0.866025</td>\n",
              "      <td>0.0</td>\n",
              "      <td>1.0</td>\n",
              "      <td>-0.781831</td>\n",
              "      <td>0.62349</td>\n",
              "      <td>0.000000</td>\n",
              "      <td>1.00000</td>\n",
              "      <td>0.243873</td>\n",
              "      <td>6</td>\n",
              "      <td>1</td>\n",
              "      <td>1</td>\n",
              "      <td>2</td>\n",
              "    </tr>\n",
              "    <tr>\n",
              "      <th>16634</th>\n",
              "      <td>781</td>\n",
              "      <td>2017</td>\n",
              "      <td>1</td>\n",
              "      <td>0.707107</td>\n",
              "      <td>0.707107</td>\n",
              "      <td>0.0</td>\n",
              "      <td>1.0</td>\n",
              "      <td>-0.781831</td>\n",
              "      <td>0.62349</td>\n",
              "      <td>0.000000</td>\n",
              "      <td>1.00000</td>\n",
              "      <td>0.229168</td>\n",
              "      <td>6</td>\n",
              "      <td>1</td>\n",
              "      <td>1</td>\n",
              "      <td>3</td>\n",
              "    </tr>\n",
              "    <tr>\n",
              "      <th>16635</th>\n",
              "      <td>848</td>\n",
              "      <td>2017</td>\n",
              "      <td>1</td>\n",
              "      <td>0.866025</td>\n",
              "      <td>0.500000</td>\n",
              "      <td>0.0</td>\n",
              "      <td>1.0</td>\n",
              "      <td>-0.781831</td>\n",
              "      <td>0.62349</td>\n",
              "      <td>0.000000</td>\n",
              "      <td>1.00000</td>\n",
              "      <td>0.223551</td>\n",
              "      <td>6</td>\n",
              "      <td>1</td>\n",
              "      <td>1</td>\n",
              "      <td>4</td>\n",
              "    </tr>\n",
              "    <tr>\n",
              "      <th>...</th>\n",
              "      <td>...</td>\n",
              "      <td>...</td>\n",
              "      <td>...</td>\n",
              "      <td>...</td>\n",
              "      <td>...</td>\n",
              "      <td>...</td>\n",
              "      <td>...</td>\n",
              "      <td>...</td>\n",
              "      <td>...</td>\n",
              "      <td>...</td>\n",
              "      <td>...</td>\n",
              "      <td>...</td>\n",
              "      <td>...</td>\n",
              "      <td>...</td>\n",
              "      <td>...</td>\n",
              "      <td>...</td>\n",
              "    </tr>\n",
              "    <tr>\n",
              "      <th>17370</th>\n",
              "      <td>6398</td>\n",
              "      <td>2017</td>\n",
              "      <td>0</td>\n",
              "      <td>-0.965926</td>\n",
              "      <td>0.258819</td>\n",
              "      <td>0.0</td>\n",
              "      <td>1.0</td>\n",
              "      <td>0.781831</td>\n",
              "      <td>0.62349</td>\n",
              "      <td>-0.201299</td>\n",
              "      <td>0.97953</td>\n",
              "      <td>0.552991</td>\n",
              "      <td>1</td>\n",
              "      <td>1</td>\n",
              "      <td>31</td>\n",
              "      <td>19</td>\n",
              "    </tr>\n",
              "    <tr>\n",
              "      <th>17371</th>\n",
              "      <td>4290</td>\n",
              "      <td>2017</td>\n",
              "      <td>0</td>\n",
              "      <td>-0.866025</td>\n",
              "      <td>0.500000</td>\n",
              "      <td>0.0</td>\n",
              "      <td>1.0</td>\n",
              "      <td>0.781831</td>\n",
              "      <td>0.62349</td>\n",
              "      <td>-0.201299</td>\n",
              "      <td>0.97953</td>\n",
              "      <td>0.434329</td>\n",
              "      <td>1</td>\n",
              "      <td>1</td>\n",
              "      <td>31</td>\n",
              "      <td>20</td>\n",
              "    </tr>\n",
              "    <tr>\n",
              "      <th>17372</th>\n",
              "      <td>3386</td>\n",
              "      <td>2017</td>\n",
              "      <td>0</td>\n",
              "      <td>-0.707107</td>\n",
              "      <td>0.707107</td>\n",
              "      <td>0.0</td>\n",
              "      <td>1.0</td>\n",
              "      <td>0.781831</td>\n",
              "      <td>0.62349</td>\n",
              "      <td>-0.201299</td>\n",
              "      <td>0.97953</td>\n",
              "      <td>0.382272</td>\n",
              "      <td>1</td>\n",
              "      <td>1</td>\n",
              "      <td>31</td>\n",
              "      <td>21</td>\n",
              "    </tr>\n",
              "    <tr>\n",
              "      <th>17373</th>\n",
              "      <td>2468</td>\n",
              "      <td>2017</td>\n",
              "      <td>0</td>\n",
              "      <td>-0.500000</td>\n",
              "      <td>0.866025</td>\n",
              "      <td>0.0</td>\n",
              "      <td>1.0</td>\n",
              "      <td>0.781831</td>\n",
              "      <td>0.62349</td>\n",
              "      <td>-0.201299</td>\n",
              "      <td>0.97953</td>\n",
              "      <td>0.329193</td>\n",
              "      <td>1</td>\n",
              "      <td>1</td>\n",
              "      <td>31</td>\n",
              "      <td>22</td>\n",
              "    </tr>\n",
              "    <tr>\n",
              "      <th>17374</th>\n",
              "      <td>1640</td>\n",
              "      <td>2017</td>\n",
              "      <td>0</td>\n",
              "      <td>-0.258819</td>\n",
              "      <td>0.965926</td>\n",
              "      <td>0.0</td>\n",
              "      <td>1.0</td>\n",
              "      <td>0.781831</td>\n",
              "      <td>0.62349</td>\n",
              "      <td>-0.201299</td>\n",
              "      <td>0.97953</td>\n",
              "      <td>0.281969</td>\n",
              "      <td>1</td>\n",
              "      <td>1</td>\n",
              "      <td>31</td>\n",
              "      <td>23</td>\n",
              "    </tr>\n",
              "  </tbody>\n",
              "</table>\n",
              "<p>744 rows × 16 columns</p>\n",
              "</div>"
            ],
            "text/plain": [
              "       Volume_of_Traffic  Year  Holiday    hr_sin  ...  WEEKDAY  Month  Day  Hour\n",
              "16631                815  2017        1  0.000000  ...        6      1    1     0\n",
              "16632               1215  2017        1  0.258819  ...        6      1    1     1\n",
              "16633                912  2017        1  0.500000  ...        6      1    1     2\n",
              "16634                781  2017        1  0.707107  ...        6      1    1     3\n",
              "16635                848  2017        1  0.866025  ...        6      1    1     4\n",
              "...                  ...   ...      ...       ...  ...      ...    ...  ...   ...\n",
              "17370               6398  2017        0 -0.965926  ...        1      1   31    19\n",
              "17371               4290  2017        0 -0.866025  ...        1      1   31    20\n",
              "17372               3386  2017        0 -0.707107  ...        1      1   31    21\n",
              "17373               2468  2017        0 -0.500000  ...        1      1   31    22\n",
              "17374               1640  2017        0 -0.258819  ...        1      1   31    23\n",
              "\n",
              "[744 rows x 16 columns]"
            ]
          },
          "metadata": {
            "tags": []
          },
          "execution_count": 215
        }
      ]
    },
    {
      "cell_type": "code",
      "metadata": {
        "id": "PsrNbtF--425",
        "colab_type": "code",
        "outputId": "048fa8d4-bef3-4781-98f0-90f440435bba",
        "colab": {
          "base_uri": "https://localhost:8080/",
          "height": 436
        }
      },
      "source": [
        "bakchodi = forGettingProba2.groupby(['WEEKDAY']).mean()\n",
        "bakchodi"
      ],
      "execution_count": 0,
      "outputs": [
        {
          "output_type": "execute_result",
          "data": {
            "text/html": [
              "<div>\n",
              "<style scoped>\n",
              "    .dataframe tbody tr th:only-of-type {\n",
              "        vertical-align: middle;\n",
              "    }\n",
              "\n",
              "    .dataframe tbody tr th {\n",
              "        vertical-align: top;\n",
              "    }\n",
              "\n",
              "    .dataframe thead th {\n",
              "        text-align: right;\n",
              "    }\n",
              "</style>\n",
              "<table border=\"1\" class=\"dataframe\">\n",
              "  <thead>\n",
              "    <tr style=\"text-align: right;\">\n",
              "      <th></th>\n",
              "      <th>Volume_of_Traffic</th>\n",
              "      <th>Year</th>\n",
              "      <th>Holiday</th>\n",
              "      <th>hr_sin</th>\n",
              "      <th>hr_cos</th>\n",
              "      <th>month_sin</th>\n",
              "      <th>month_cos</th>\n",
              "      <th>weekday_sin</th>\n",
              "      <th>weekday_cos</th>\n",
              "      <th>DaySlot_sin</th>\n",
              "      <th>DaySlot_cos</th>\n",
              "      <th>Jackpot3</th>\n",
              "      <th>Month</th>\n",
              "      <th>Day</th>\n",
              "      <th>Hour</th>\n",
              "    </tr>\n",
              "    <tr>\n",
              "      <th>WEEKDAY</th>\n",
              "      <th></th>\n",
              "      <th></th>\n",
              "      <th></th>\n",
              "      <th></th>\n",
              "      <th></th>\n",
              "      <th></th>\n",
              "      <th></th>\n",
              "      <th></th>\n",
              "      <th></th>\n",
              "      <th></th>\n",
              "      <th></th>\n",
              "      <th></th>\n",
              "      <th></th>\n",
              "      <th></th>\n",
              "      <th></th>\n",
              "    </tr>\n",
              "  </thead>\n",
              "  <tbody>\n",
              "    <tr>\n",
              "      <th>0</th>\n",
              "      <td>5153.866667</td>\n",
              "      <td>2017.0</td>\n",
              "      <td>0.0</td>\n",
              "      <td>-3.885781e-17</td>\n",
              "      <td>-1.128727e-16</td>\n",
              "      <td>0.0</td>\n",
              "      <td>1.0</td>\n",
              "      <td>0.000000</td>\n",
              "      <td>1.000000</td>\n",
              "      <td>-1.224992e-02</td>\n",
              "      <td>0.120463</td>\n",
              "      <td>0.449374</td>\n",
              "      <td>1.0</td>\n",
              "      <td>16.0</td>\n",
              "      <td>11.5</td>\n",
              "    </tr>\n",
              "    <tr>\n",
              "      <th>1</th>\n",
              "      <td>5443.608333</td>\n",
              "      <td>2017.0</td>\n",
              "      <td>0.0</td>\n",
              "      <td>-3.885781e-17</td>\n",
              "      <td>-1.128727e-16</td>\n",
              "      <td>0.0</td>\n",
              "      <td>1.0</td>\n",
              "      <td>0.781831</td>\n",
              "      <td>0.623490</td>\n",
              "      <td>1.224992e-02</td>\n",
              "      <td>0.120463</td>\n",
              "      <td>0.455781</td>\n",
              "      <td>1.0</td>\n",
              "      <td>17.0</td>\n",
              "      <td>11.5</td>\n",
              "    </tr>\n",
              "    <tr>\n",
              "      <th>2</th>\n",
              "      <td>5450.447917</td>\n",
              "      <td>2017.0</td>\n",
              "      <td>0.0</td>\n",
              "      <td>-3.932040e-17</td>\n",
              "      <td>-1.133353e-16</td>\n",
              "      <td>0.0</td>\n",
              "      <td>1.0</td>\n",
              "      <td>0.974928</td>\n",
              "      <td>-0.222521</td>\n",
              "      <td>4.531033e-02</td>\n",
              "      <td>-0.105586</td>\n",
              "      <td>0.458159</td>\n",
              "      <td>1.0</td>\n",
              "      <td>14.5</td>\n",
              "      <td>11.5</td>\n",
              "    </tr>\n",
              "    <tr>\n",
              "      <th>3</th>\n",
              "      <td>5657.802083</td>\n",
              "      <td>2017.0</td>\n",
              "      <td>0.0</td>\n",
              "      <td>-3.932040e-17</td>\n",
              "      <td>-1.133353e-16</td>\n",
              "      <td>0.0</td>\n",
              "      <td>1.0</td>\n",
              "      <td>0.433884</td>\n",
              "      <td>-0.900969</td>\n",
              "      <td>2.312861e-02</td>\n",
              "      <td>-0.112545</td>\n",
              "      <td>0.481054</td>\n",
              "      <td>1.0</td>\n",
              "      <td>15.5</td>\n",
              "      <td>11.5</td>\n",
              "    </tr>\n",
              "    <tr>\n",
              "      <th>4</th>\n",
              "      <td>5781.458333</td>\n",
              "      <td>2017.0</td>\n",
              "      <td>0.0</td>\n",
              "      <td>-3.932040e-17</td>\n",
              "      <td>-1.133353e-16</td>\n",
              "      <td>0.0</td>\n",
              "      <td>1.0</td>\n",
              "      <td>-0.433884</td>\n",
              "      <td>-0.900969</td>\n",
              "      <td>-7.170190e-17</td>\n",
              "      <td>-0.114897</td>\n",
              "      <td>0.500077</td>\n",
              "      <td>1.0</td>\n",
              "      <td>16.5</td>\n",
              "      <td>11.5</td>\n",
              "    </tr>\n",
              "    <tr>\n",
              "      <th>5</th>\n",
              "      <td>4329.531250</td>\n",
              "      <td>2017.0</td>\n",
              "      <td>0.0</td>\n",
              "      <td>-3.932040e-17</td>\n",
              "      <td>-1.133353e-16</td>\n",
              "      <td>0.0</td>\n",
              "      <td>1.0</td>\n",
              "      <td>-0.974928</td>\n",
              "      <td>-0.222521</td>\n",
              "      <td>-2.312861e-02</td>\n",
              "      <td>-0.112545</td>\n",
              "      <td>0.427245</td>\n",
              "      <td>1.0</td>\n",
              "      <td>17.5</td>\n",
              "      <td>11.5</td>\n",
              "    </tr>\n",
              "    <tr>\n",
              "      <th>6</th>\n",
              "      <td>3775.558333</td>\n",
              "      <td>2017.0</td>\n",
              "      <td>0.2</td>\n",
              "      <td>-3.885781e-17</td>\n",
              "      <td>-1.128727e-16</td>\n",
              "      <td>0.0</td>\n",
              "      <td>1.0</td>\n",
              "      <td>-0.781831</td>\n",
              "      <td>0.623490</td>\n",
              "      <td>-3.624826e-02</td>\n",
              "      <td>0.115532</td>\n",
              "      <td>0.391131</td>\n",
              "      <td>1.0</td>\n",
              "      <td>15.0</td>\n",
              "      <td>11.5</td>\n",
              "    </tr>\n",
              "  </tbody>\n",
              "</table>\n",
              "</div>"
            ],
            "text/plain": [
              "         Volume_of_Traffic    Year  Holiday  ...  Month   Day  Hour\n",
              "WEEKDAY                                      ...                   \n",
              "0              5153.866667  2017.0      0.0  ...    1.0  16.0  11.5\n",
              "1              5443.608333  2017.0      0.0  ...    1.0  17.0  11.5\n",
              "2              5450.447917  2017.0      0.0  ...    1.0  14.5  11.5\n",
              "3              5657.802083  2017.0      0.0  ...    1.0  15.5  11.5\n",
              "4              5781.458333  2017.0      0.0  ...    1.0  16.5  11.5\n",
              "5              4329.531250  2017.0      0.0  ...    1.0  17.5  11.5\n",
              "6              3775.558333  2017.0      0.2  ...    1.0  15.0  11.5\n",
              "\n",
              "[7 rows x 15 columns]"
            ]
          },
          "metadata": {
            "tags": []
          },
          "execution_count": 244
        }
      ]
    },
    {
      "cell_type": "code",
      "metadata": {
        "id": "XfD-NFzEA3VD",
        "colab_type": "code",
        "colab": {}
      },
      "source": [
        "bakchodi['Hour2']=bakchodi.index"
      ],
      "execution_count": 0,
      "outputs": []
    },
    {
      "cell_type": "code",
      "metadata": {
        "id": "oSJMZtHR_9EV",
        "colab_type": "code",
        "outputId": "652bcb5c-8e9b-4cdd-d262-3f5ed72fac2a",
        "colab": {
          "base_uri": "https://localhost:8080/",
          "height": 351
        }
      },
      "source": [
        "fig, ax = plt.subplots(figsize=(13,5))\n",
        "xticks = ['00:00','01:00','02:00','03:00','04:00','05:00','06:00','07:00','08:00','09:00',\n",
        "          '10:00','11:00','12:00','13:00','14:00','15:00','16:00','17:00','18:00','19:00','20:00','21:00','22:00','23:00']\n",
        "ax.bar(bakchodi['Hour2'],bakchodi['Jackpot3'], color='purple', label=\"Weekdays\")\n",
        "plt.grid(which='major', linestyle='-', linewidth='0.5', color='green')\n",
        "plt.grid(which='minor', linestyle=':', linewidth='0.5', color='black')\n",
        "plt.xlabel('Hour of the day')\n",
        "plt.ylabel('Likelihood of having an accident')\n",
        "\n"
      ],
      "execution_count": 0,
      "outputs": [
        {
          "output_type": "execute_result",
          "data": {
            "text/plain": [
              "Text(0, 0.5, 'Likelihood of having an accident')"
            ]
          },
          "metadata": {
            "tags": []
          },
          "execution_count": 243
        },
        {
          "output_type": "display_data",
          "data": {
            "image/png": "[encoded data removed]",
            "text/plain": [
              "<Figure size 936x360 with 1 Axes>"
            ]
          },
          "metadata": {
            "tags": [],
            "needs_background": "light"
          }
        }
      ]
    },
    {
      "cell_type": "code",
      "metadata": {
        "id": "lmzf1ZJTOZwb",
        "colab_type": "code",
        "outputId": "66c035bd-6518-4857-960f-45ebd29ef8ca",
        "colab": {
          "base_uri": "https://localhost:8080/",
          "height": 295
        }
      },
      "source": [
        "from sklearn.metrics import roc_auc_score\n",
        "from sklearn.metrics import roc_curve\n",
        "\n",
        "logit_roc_auc = roc_auc_score(y_test, upsampled.predict(X_test))\n",
        "fpr, tpr, thresholds = roc_curve(y_test, upsampled.predict_proba(X_test)[:,1])\n",
        "\n",
        "\n",
        "\n",
        "\n",
        "plt.figure()\n",
        "plt.plot(fpr, tpr, label='Logistic Regression (area = %0.2f)' % logit_roc_auc)\n",
        "plt.plot([0, 1], [0, 1],'r--')\n",
        "plt.xlim([0.0, 1.0])\n",
        "plt.ylim([0.0, 1.05])\n",
        "plt.xlabel('False Positive Rate')\n",
        "plt.ylabel('True Positive Rate')\n",
        "plt.title('Characteristic')\n",
        "plt.legend(loc=\"lower right\")\n",
        "plt.show()\n"
      ],
      "execution_count": 0,
      "outputs": [
        {
          "output_type": "display_data",
          "data": {
            "image/png": "[encoded data removed]",
            "text/plain": [
              "<Figure size 432x288 with 1 Axes>"
            ]
          },
          "metadata": {
            "tags": [],
            "needs_background": "light"
          }
        }
      ]
    },
    {
      "cell_type": "code",
      "metadata": {
        "id": "CiHjp3tqN1CZ",
        "colab_type": "code",
        "outputId": "de9e9acf-585e-417e-ce0c-53e2c5e001a4",
        "colab": {
          "base_uri": "https://localhost:8080/",
          "height": 34
        }
      },
      "source": [
        "from sklearn.metrics import accuracy_score\n",
        "sqrt(mean_squared_error(y_test, upsampled_pred))"
      ],
      "execution_count": 0,
      "outputs": [
        {
          "output_type": "execute_result",
          "data": {
            "text/plain": [
              "0.5892528376344919"
            ]
          },
          "metadata": {
            "tags": []
          },
          "execution_count": 304
        }
      ]
    },
    {
      "cell_type": "code",
      "metadata": {
        "id": "IrEH_hiZ5hxQ",
        "colab_type": "code",
        "outputId": "e84a098d-14da-4dfd-b9c2-2e5609b4f1b4",
        "colab": {
          "base_uri": "https://localhost:8080/",
          "height": 34
        }
      },
      "source": [
        "recall_score(y_test, upsampled_pred)"
      ],
      "execution_count": 0,
      "outputs": [
        {
          "output_type": "execute_result",
          "data": {
            "text/plain": [
              "0.7151515151515152"
            ]
          },
          "metadata": {
            "tags": []
          },
          "execution_count": 275
        }
      ]
    },
    {
      "cell_type": "code",
      "metadata": {
        "id": "bE0CD2GL8DxZ",
        "colab_type": "code",
        "colab": {}
      },
      "source": [
        "import xgboost\n",
        "from xgboost import XGBClassifier\n",
        "model = XGBClassifier(gamma=0.5,learning_rate=0.2,max_depth=5,nthread=1,n_estimators=200)\n",
        "\n"
      ],
      "execution_count": 0,
      "outputs": []
    },
    {
      "cell_type": "code",
      "metadata": {
        "id": "6b8-JGbpHHM6",
        "colab_type": "code",
        "outputId": "b62bdd07-dc86-49df-d0a6-39f9f7855d14",
        "colab": {
          "base_uri": "https://localhost:8080/",
          "height": 136
        }
      },
      "source": [
        "model"
      ],
      "execution_count": 0,
      "outputs": [
        {
          "output_type": "execute_result",
          "data": {
            "text/plain": [
              "XGBClassifier(base_score=0.5, booster='gbtree', colsample_bylevel=1,\n",
              "              colsample_bynode=1, colsample_bytree=1, gamma=0.5,\n",
              "              learning_rate=0.2, max_delta_step=0, max_depth=5,\n",
              "              min_child_weight=1, missing=None, n_estimators=200, n_jobs=1,\n",
              "              nthread=1, objective='binary:logistic', random_state=0,\n",
              "              reg_alpha=0, reg_lambda=1, scale_pos_weight=1, seed=None,\n",
              "              silent=None, subsample=1, verbosity=1)"
            ]
          },
          "metadata": {
            "tags": []
          },
          "execution_count": 126
        }
      ]
    },
    {
      "cell_type": "code",
      "metadata": {
        "id": "KqDx4_p98Zeg",
        "colab_type": "code",
        "colab": {}
      },
      "source": [
        "xgb_upsampled = model.fit(X_train, y_train)\n",
        "upsampled_pred = xgb_upsampled.predict(X_test)\n"
      ],
      "execution_count": 0,
      "outputs": []
    },
    {
      "cell_type": "code",
      "metadata": {
        "id": "o3Dd2Zd29zMG",
        "colab_type": "code",
        "outputId": "98296335-f87f-43a1-ba1c-9856121917b0",
        "colab": {
          "base_uri": "https://localhost:8080/",
          "height": 136
        }
      },
      "source": [
        "\n",
        "test_pred = xgb_upsampled.predict_proba(X_test)\n",
        "test_pred"
      ],
      "execution_count": 0,
      "outputs": [
        {
          "output_type": "execute_result",
          "data": {
            "text/plain": [
              "array([[9.9941409e-01, 5.8593857e-04],\n",
              "       [9.6683800e-01, 3.3162013e-02],\n",
              "       [9.9759960e-01, 2.4003694e-03],\n",
              "       ...,\n",
              "       [9.9977803e-01, 2.2196848e-04],\n",
              "       [6.5781188e-01, 3.4218809e-01],\n",
              "       [9.9994934e-01, 5.0691728e-05]], dtype=float32)"
            ]
          },
          "metadata": {
            "tags": []
          },
          "execution_count": 128
        }
      ]
    },
    {
      "cell_type": "code",
      "metadata": {
        "id": "QejvUvNd88sH",
        "colab_type": "code",
        "outputId": "79659ac1-e06f-4f93-9676-1be6f7e86c61",
        "colab": {
          "base_uri": "https://localhost:8080/",
          "height": 34
        }
      },
      "source": [
        "from sklearn.metrics import precision_score\n",
        "precision_score(y_test, upsampled_pred)"
      ],
      "execution_count": 0,
      "outputs": [
        {
          "output_type": "execute_result",
          "data": {
            "text/plain": [
              "0.05182341650671785"
            ]
          },
          "metadata": {
            "tags": []
          },
          "execution_count": 129
        }
      ]
    },
    {
      "cell_type": "code",
      "metadata": {
        "id": "4X2dAsWAMH92",
        "colab_type": "code",
        "outputId": "27b40d2a-41f5-45d8-ef6d-54b6d6b8ccd0",
        "colab": {
          "base_uri": "https://localhost:8080/",
          "height": 34
        }
      },
      "source": [
        "from sklearn.metrics import accuracy_score\n",
        "from sklearn.metrics import mean_absolute_error\n",
        "from sklearn.metrics import precision_score\n",
        "\n",
        "accuracy_score(y_test, upsampled_pred)"
      ],
      "execution_count": 0,
      "outputs": [
        {
          "output_type": "execute_result",
          "data": {
            "text/plain": [
              "0.9245643351635235"
            ]
          },
          "metadata": {
            "tags": []
          },
          "execution_count": 130
        }
      ]
    },
    {
      "cell_type": "code",
      "metadata": {
        "id": "-8hrtady9FXx",
        "colab_type": "code",
        "outputId": "a5cb43db-f207-42d2-997b-b480357f2824",
        "colab": {
          "base_uri": "https://localhost:8080/",
          "height": 34
        }
      },
      "source": [
        "recall_score(y_test, upsampled_pred)"
      ],
      "execution_count": 0,
      "outputs": [
        {
          "output_type": "execute_result",
          "data": {
            "text/plain": [
              "0.16363636363636364"
            ]
          },
          "metadata": {
            "tags": []
          },
          "execution_count": 131
        }
      ]
    },
    {
      "cell_type": "code",
      "metadata": {
        "id": "TKaRyHlG9IGB",
        "colab_type": "code",
        "outputId": "d49b5b0f-4ec6-49cb-bddf-4a17521e0689",
        "colab": {
          "base_uri": "https://localhost:8080/",
          "height": 34
        }
      },
      "source": [
        "from sklearn.metrics import mean_absolute_error\n",
        "mean_absolute_error(y_test, upsampled_pred)"
      ],
      "execution_count": 0,
      "outputs": [
        {
          "output_type": "execute_result",
          "data": {
            "text/plain": [
              "0.1506326092146097"
            ]
          },
          "metadata": {
            "tags": []
          },
          "execution_count": 121
        }
      ]
    },
    {
      "cell_type": "code",
      "metadata": {
        "id": "q-IbdSkHLkXf",
        "colab_type": "code",
        "outputId": "b5740e35-9eec-4ca2-9e41-ce3a38191930",
        "colab": {
          "base_uri": "https://localhost:8080/",
          "height": 34
        }
      },
      "source": [
        "from sklearn.metrics import f1_score\n",
        "f1_score(y_test, upsampled_pred)"
      ],
      "execution_count": 0,
      "outputs": [
        {
          "output_type": "execute_result",
          "data": {
            "text/plain": [
              "0.08151382823871907"
            ]
          },
          "metadata": {
            "tags": []
          },
          "execution_count": 122
        }
      ]
    },
    {
      "cell_type": "code",
      "metadata": {
        "id": "o3-Ih_VGH6xI",
        "colab_type": "code",
        "outputId": "9e9980dc-4e83-4be4-827d-fee32cfc7c4e",
        "colab": {
          "base_uri": "https://localhost:8080/",
          "height": 34
        }
      },
      "source": [
        "from sklearn.metrics import mean_squared_error\n",
        "from math import sqrt\n",
        "\n",
        "sqrt(mean_squared_error(y_test, upsampled_pred))"
      ],
      "execution_count": 0,
      "outputs": [
        {
          "output_type": "execute_result",
          "data": {
            "text/plain": [
              "0.5892528376344919"
            ]
          },
          "metadata": {
            "tags": []
          },
          "execution_count": 293
        }
      ]
    },
    {
      "cell_type": "code",
      "metadata": {
        "id": "RlOD49zICWM_",
        "colab_type": "code",
        "colab": {}
      },
      "source": [
        "from sklearn.metrics import roc_auc_score\n",
        "from sklearn.metrics import roc_curve\n",
        "\n",
        "logit_roc_auc = roc_auc_score(y_test, xgb_upsampled.predict(X_test))\n",
        "fpr, tpr, thresholds = roc_curve(y_test, xgb_upsampled.predict_proba(X_test)[:,1])\n",
        "\n",
        "\n",
        "\n",
        "\n",
        "plt.figure()\n",
        "plt.plot(fpr, tpr, label='Logistic Regression (area = %0.2f)' % logit_roc_auc)\n",
        "plt.plot([0, 1], [0, 1],'r--')\n",
        "plt.xlim([0.0, 1.0])\n",
        "plt.ylim([0.0, 1.05])\n",
        "plt.xlabel('False Positive Rate')\n",
        "plt.ylabel('True Positive Rate')\n",
        "plt.title('Characteristic')\n",
        "plt.legend(loc=\"lower right\")\n",
        "plt.show()\n"
      ],
      "execution_count": 0,
      "outputs": []
    },
    {
      "cell_type": "code",
      "metadata": {
        "id": "Rn-S21JjOt-e",
        "colab_type": "code",
        "outputId": "110724b1-6018-4c75-d746-fb9649b16658",
        "colab": {
          "base_uri": "https://localhost:8080/",
          "height": 85
        }
      },
      "source": [
        "from sklearn.svm import SVC\n",
        "\n",
        "upsampled = SVC(probability=True)\n",
        "upsampled.fit(X_train, y_train)\n"
      ],
      "execution_count": 0,
      "outputs": [
        {
          "output_type": "execute_result",
          "data": {
            "text/plain": [
              "SVC(C=1.0, break_ties=False, cache_size=200, class_weight=None, coef0=0.0,\n",
              "    decision_function_shape='ovr', degree=3, gamma='scale', kernel='rbf',\n",
              "    max_iter=-1, probability=True, random_state=None, shrinking=True, tol=0.001,\n",
              "    verbose=False)"
            ]
          },
          "metadata": {
            "tags": []
          },
          "execution_count": 41
        }
      ]
    },
    {
      "cell_type": "code",
      "metadata": {
        "id": "HWYgIXu3UnYf",
        "colab_type": "code",
        "outputId": "3a8e541e-cb4a-4d9f-e928-4aa6c8c10229",
        "colab": {
          "base_uri": "https://localhost:8080/",
          "height": 34
        }
      },
      "source": [
        "upsampled_pred = upsampled.predict(X_test)\n",
        "\n",
        "# Checking accuracy\n",
        "accuracy_score(y_test, upsampled_pred)"
      ],
      "execution_count": 0,
      "outputs": [
        {
          "output_type": "execute_result",
          "data": {
            "text/plain": [
              "0.5337789448555741"
            ]
          },
          "metadata": {
            "tags": []
          },
          "execution_count": 42
        }
      ]
    },
    {
      "cell_type": "code",
      "metadata": {
        "id": "TG9-LOmiXn7N",
        "colab_type": "code",
        "colab": {}
      },
      "source": [
        "from sklearn.metrics import accuracy_score\n",
        "from sklearn.metrics import mean_absolute_error\n",
        "from sklearn.metrics import precision_score\n",
        "from sklearn.metrics import recall_score\n",
        "from sklearn.metrics import mean_squared_error\n",
        "from math import sqrt"
      ],
      "execution_count": 0,
      "outputs": []
    },
    {
      "cell_type": "code",
      "metadata": {
        "id": "GOvlVledXcLq",
        "colab_type": "code",
        "outputId": "8856a5d0-bd3f-42a0-a82e-85bb4994ccb6",
        "colab": {
          "base_uri": "https://localhost:8080/",
          "height": 34
        }
      },
      "source": [
        "sqrt(mean_squared_error(y_test, upsampled_pred))"
      ],
      "execution_count": 0,
      "outputs": [
        {
          "output_type": "execute_result",
          "data": {
            "text/plain": [
              "0.6828912178184733"
            ]
          },
          "metadata": {
            "tags": []
          },
          "execution_count": 39
        }
      ]
    },
    {
      "cell_type": "code",
      "metadata": {
        "id": "amSFK0vrYdwU",
        "colab_type": "code",
        "colab": {}
      },
      "source": [
        "from sklearn.metrics import roc_auc_score\n",
        "from sklearn.metrics import roc_curve\n",
        "\n",
        "logit_roc_auc = roc_auc_score(y_test, upsampled.predict(X_test))\n",
        "fpr, tpr, thresholds = roc_curve(y_test, upsampled.predict_proba(X_test)[:,1])\n",
        "\n",
        "\n",
        "\n",
        "\n",
        "plt.figure()\n",
        "plt.plot(fpr, tpr, label='Logistic Regression (area = %0.2f)' % logit_roc_auc)\n",
        "plt.plot([0, 1], [0, 1],'r--')\n",
        "plt.xlim([0.0, 1.0])\n",
        "plt.ylim([0.0, 1.05])\n",
        "plt.xlabel('False Positive Rate')\n",
        "plt.ylabel('True Positive Rate')\n",
        "plt.title('Characteristic')\n",
        "plt.legend(loc=\"lower right\")\n",
        "plt.show()\n"
      ],
      "execution_count": 0,
      "outputs": []
    },
    {
      "cell_type": "code",
      "metadata": {
        "id": "_OuPU-55jCYW",
        "colab_type": "code",
        "colab": {}
      },
      "source": [
        "from sklearn.neighbors import KNeighborsClassifier\n",
        "algo_kNN = KNeighborsClassifier(n_neighbors=8)\n",
        "algo_kNN.fit(X_train, y_train)\n",
        "\n",
        "upsampled_pred = algo_kNN.predict(X_test)\n",
        "\n"
      ],
      "execution_count": 0,
      "outputs": []
    },
    {
      "cell_type": "code",
      "metadata": {
        "id": "GW-GmBNqkDFs",
        "colab_type": "code",
        "outputId": "aa41832d-00ef-4420-c48e-d3b6ad235418",
        "colab": {
          "base_uri": "https://localhost:8080/",
          "height": 34
        }
      },
      "source": [
        "# Checking accuracy\n",
        "recall_score(y_test, upsampled_pred)"
      ],
      "execution_count": 0,
      "outputs": [
        {
          "output_type": "execute_result",
          "data": {
            "text/plain": [
              "0.14545454545454545"
            ]
          },
          "metadata": {
            "tags": []
          },
          "execution_count": 105
        }
      ]
    },
    {
      "cell_type": "code",
      "metadata": {
        "id": "4dogctE4klaE",
        "colab_type": "code",
        "outputId": "7fe85e94-31a1-4625-81a1-073beeb0f1fb",
        "colab": {
          "base_uri": "https://localhost:8080/",
          "height": 34
        }
      },
      "source": [
        "mean_absolute_error(y_test, upsampled_pred)"
      ],
      "execution_count": 0,
      "outputs": [
        {
          "output_type": "execute_result",
          "data": {
            "text/plain": [
              "0.08128431606588685"
            ]
          },
          "metadata": {
            "tags": []
          },
          "execution_count": 108
        }
      ]
    },
    {
      "cell_type": "code",
      "metadata": {
        "id": "DfKr0cwAlKFz",
        "colab_type": "code",
        "outputId": "04285111-d18f-44d9-b641-963d24b68b7f",
        "colab": {
          "base_uri": "https://localhost:8080/",
          "height": 34
        }
      },
      "source": [
        "sqrt(mean_squared_error(y_test, upsampled_pred))"
      ],
      "execution_count": 0,
      "outputs": [
        {
          "output_type": "execute_result",
          "data": {
            "text/plain": [
              "0.2851040442818847"
            ]
          },
          "metadata": {
            "tags": []
          },
          "execution_count": 109
        }
      ]
    }
  ]
}